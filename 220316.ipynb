{
  "nbformat": 4,
  "nbformat_minor": 0,
  "metadata": {
    "colab": {
      "name": "220316.ipynb",
      "provenance": [],
      "collapsed_sections": [
        "XDlw6wGy-dgp",
        "9LlJoYDB5lZP",
        "DwQa__j59DYM",
        "sTb6x33pBfOn",
        "7XbuicQzCGh6",
        "QWVB2w4AEKqG",
        "9o6TLgG7EpV0"
      ],
      "include_colab_link": true
    },
    "kernelspec": {
      "name": "python3",
      "display_name": "Python 3"
    }
  },
  "cells": [
    {
      "cell_type": "markdown",
      "metadata": {
        "id": "view-in-github",
        "colab_type": "text"
      },
      "source": [
        "<a href=\"https://colab.research.google.com/github/ksm980310/class2022Spring/blob/main/220316.ipynb\" target=\"_parent\"><img src=\"https://colab.research.google.com/assets/colab-badge.svg\" alt=\"Open In Colab\"/></a>"
      ]
    },
    {
      "cell_type": "markdown",
      "source": [
        "# 영어 음성학 응용 2022년도 1학기"
      ],
      "metadata": {
        "id": "wwdmiNKz-ZBN"
      }
    },
    {
      "cell_type": "markdown",
      "source": [
        "## INTRODUCTION"
      ],
      "metadata": {
        "id": "XDlw6wGy-dgp"
      }
    },
    {
      "cell_type": "markdown",
      "metadata": {
        "id": "qg4XK6W39TPs"
      },
      "source": [
        "##### 1. used programs: python, colab, github\n",
        "\n",
        "##### 2. data processing (text, sound, image)\n",
        "* There are three types of data: text, sound, image\n",
        "* For this semester, this course aims to make AI models. AI models are functions.\n",
        "* Putting an input into a function makes an output.\n",
        "* input → function → output\n",
        "\n",
        "##### 3. further materials to refer to: huggingface, gradio\n",
        "* huggingface: various AI models are saved and shared in huggingface\n",
        "* gradio: web demonstrations → saves time and effort spent in web programming\n",
        "\n",
        "##### FUNCTION\n",
        "* Inputs and outputs are data. Thus, both inputs and outputs can be forms of \"text\", \"sound\" and \"data\".\n",
        "* TTS(Text to Speech) 음성합성: text input -> sound output\n",
        "* STT(Sound to Text) 음성인식: sound input -> text output\n",
        "* text -> image\n",
        "* image -> text\n",
        "\n",
        "##### CODING\n",
        "* All computer languages have the followings: (1) variable (2) syntax(=grammar) (3) function"
      ]
    },
    {
      "cell_type": "markdown",
      "source": [
        "## Variable"
      ],
      "metadata": {
        "id": "9LlJoYDB5lZP"
      }
    },
    {
      "cell_type": "code",
      "source": [
        "a = 1 #sets variable a as 1\n",
        "print(type(a)) #prints the 'type' of variable a, which is an integer"
      ],
      "metadata": {
        "colab": {
          "base_uri": "https://localhost:8080/"
        },
        "id": "WSoEbNTy5lKR",
        "outputId": "83450623-fd05-440c-ad89-c0472880446f"
      },
      "execution_count": 1,
      "outputs": [
        {
          "output_type": "stream",
          "name": "stdout",
          "text": [
            "<class 'int'>\n"
          ]
        }
      ]
    },
    {
      "cell_type": "code",
      "source": [
        "a = 1.1 #sets variable a as 1.1\n",
        "print(type(a)) #prints the 'type' of variable a, which is a float"
      ],
      "metadata": {
        "colab": {
          "base_uri": "https://localhost:8080/"
        },
        "id": "j9SumDw75jsk",
        "outputId": "e222447c-05f5-45dd-b6e6-25b71d9b9110"
      },
      "execution_count": 2,
      "outputs": [
        {
          "output_type": "stream",
          "name": "stdout",
          "text": [
            "<class 'float'>\n"
          ]
        }
      ]
    },
    {
      "cell_type": "code",
      "source": [
        "a = '123' #sets variable a as 123\n",
        "print(type(a)) #prints the 'type' of variable a, which is a string\n",
        "print(a[1]) #prints the 1st letter of variable a #counting starts with 0th, 1st, 2nd, 3rd,,,"
      ],
      "metadata": {
        "colab": {
          "base_uri": "https://localhost:8080/"
        },
        "id": "9SwXlw5t6UdD",
        "outputId": "ccd02295-bb9f-4a4f-9643-6a905ccd26a3"
      },
      "execution_count": 3,
      "outputs": [
        {
          "output_type": "stream",
          "name": "stdout",
          "text": [
            "<class 'str'>\n",
            "2\n"
          ]
        }
      ]
    },
    {
      "cell_type": "code",
      "source": [
        "a = 'hello'\n",
        "print(type(a))\n",
        "print(a[1])\n",
        "# another example of string and print(fn[n])"
      ],
      "metadata": {
        "colab": {
          "base_uri": "https://localhost:8080/"
        },
        "id": "dMMhg0GS7IWQ",
        "outputId": "1f8b0d1d-c4ce-4f77-83f2-cfac1758bfce"
      },
      "execution_count": 4,
      "outputs": [
        {
          "output_type": "stream",
          "name": "stdout",
          "text": [
            "<class 'str'>\n",
            "e\n"
          ]
        }
      ]
    },
    {
      "cell_type": "code",
      "source": [
        "a = [1, 2, 3, 4] #sets variable a as [1, 2, 3, 4]\n",
        "print(type(a)) #prints the 'type' of variable a, which is a list\n",
        "print(a[0]) #prints the 0th value of variable a #counting starts from 0th"
      ],
      "metadata": {
        "colab": {
          "base_uri": "https://localhost:8080/"
        },
        "id": "3d_DO40D7gtk",
        "outputId": "b35f7f30-7181-402e-ead8-0ee5910eae3d"
      },
      "execution_count": 5,
      "outputs": [
        {
          "output_type": "stream",
          "name": "stdout",
          "text": [
            "<class 'list'>\n",
            "1\n"
          ]
        }
      ]
    },
    {
      "cell_type": "code",
      "source": [
        "a = [1,'a', [3, '4']]\n",
        "print(type(a))\n",
        "print(a[0])\n",
        "print(a[1])\n",
        "print(a[2])\n",
        "print(a[2][1]) #prints the 1st value of the 2nd value"
      ],
      "metadata": {
        "colab": {
          "base_uri": "https://localhost:8080/"
        },
        "id": "5SMPDGeW7z5U",
        "outputId": "8d2c3209-1969-430a-c1ca-1456bde2a545"
      },
      "execution_count": 6,
      "outputs": [
        {
          "output_type": "stream",
          "name": "stdout",
          "text": [
            "<class 'list'>\n",
            "1\n",
            "a\n",
            "[3, '4']\n",
            "4\n"
          ]
        }
      ]
    },
    {
      "cell_type": "code",
      "source": [
        "a =\t{\"a\": \"apple\", \"b\": \"orange\", \"c\": 2014}\n",
        "print(type(a)) #prints the 'type' of variable a, which is a dict(dictionary)\n",
        "print(a[\"a\"])"
      ],
      "metadata": {
        "colab": {
          "base_uri": "https://localhost:8080/"
        },
        "id": "ygRUjoGA8DQ8",
        "outputId": "ff4b2ac3-5371-4c6b-d6fc-ca737c729631"
      },
      "execution_count": 7,
      "outputs": [
        {
          "output_type": "stream",
          "name": "stdout",
          "text": [
            "<class 'dict'>\n",
            "apple\n"
          ]
        }
      ]
    },
    {
      "cell_type": "markdown",
      "source": [
        "## STRING and LIST"
      ],
      "metadata": {
        "id": "DwQa__j59DYM"
      }
    },
    {
      "cell_type": "code",
      "source": [
        "s = 'abcdef'\n",
        "print(type(s))\n",
        "print(s[0], s[5], s[-1], s[-6]) #print(s[n]) prints the nth value of string, where n starts with 0.\n",
        "print(s[-1], s[-6]) #print s([-n]) where n>0 prints the nth value of the string counted from the right(the end)\n",
        "print(s[1:3], s[1:], s[:3], s[:]) #print(s[n:m]) prints the string from the nth value to (m-1)th value, where n starts with 0"
      ],
      "metadata": {
        "colab": {
          "base_uri": "https://localhost:8080/"
        },
        "id": "qDMM3d6Q9Cgd",
        "outputId": "9659e91c-b22e-4696-e581-4dd2e1a57b12"
      },
      "execution_count": 10,
      "outputs": [
        {
          "output_type": "stream",
          "name": "stdout",
          "text": [
            "<class 'str'>\n",
            "a f f a\n",
            "f a\n",
            "bc bcdef abc abcdef\n"
          ]
        }
      ]
    },
    {
      "cell_type": "code",
      "source": [
        "n = [100, 200, 300]\n",
        "print(type(n))\n",
        "print(n[0], n[2], n[-1], n[-3])\n",
        "print(n[1:2], n[1:], n[:2], n[:])"
      ],
      "metadata": {
        "colab": {
          "base_uri": "https://localhost:8080/"
        },
        "id": "7eupWiN3-fXE",
        "outputId": "a9814690-6838-46ac-cfb9-69db2eaf833a"
      },
      "execution_count": 11,
      "outputs": [
        {
          "output_type": "stream",
          "name": "stdout",
          "text": [
            "<class 'list'>\n",
            "100 300 300 100\n",
            "[200] [200, 300] [100, 200] [100, 200, 300]\n"
          ]
        }
      ]
    },
    {
      "cell_type": "code",
      "source": [
        "print(len(s)) #function len(a) prints the length of variable a\n",
        "print(len(n))"
      ],
      "metadata": {
        "colab": {
          "base_uri": "https://localhost:8080/"
        },
        "id": "M0nWX1I-_I0N",
        "outputId": "041a54c7-bbd1-4836-8c56-1c1c4c649b23"
      },
      "execution_count": 13,
      "outputs": [
        {
          "output_type": "stream",
          "name": "stdout",
          "text": [
            "6\n",
            "3\n"
          ]
        }
      ]
    },
    {
      "cell_type": "code",
      "source": [
        "s[1]+s[3]+s[4:]*10 #an example of calculation"
      ],
      "metadata": {
        "colab": {
          "base_uri": "https://localhost:8080/",
          "height": 35
        },
        "id": "fedjE_zA_LNE",
        "outputId": "f0fa3623-8b57-41fc-bb66-9ef9178d1a68"
      },
      "execution_count": 14,
      "outputs": [
        {
          "output_type": "execute_result",
          "data": {
            "text/plain": [
              "'bdefefefefefefefefefef'"
            ],
            "application/vnd.google.colaboratory.intrinsic+json": {
              "type": "string"
            }
          },
          "metadata": {},
          "execution_count": 14
        }
      ]
    },
    {
      "cell_type": "code",
      "source": [
        "s.upper() #v.upper() function changes the letters of variable v into CAPITAL letters"
      ],
      "metadata": {
        "colab": {
          "base_uri": "https://localhost:8080/",
          "height": 35
        },
        "id": "q8LiPzp7_asM",
        "outputId": "34fa2a84-24b2-428c-8c27-5238be199969"
      },
      "execution_count": 15,
      "outputs": [
        {
          "output_type": "execute_result",
          "data": {
            "text/plain": [
              "'ABCDEF'"
            ],
            "application/vnd.google.colaboratory.intrinsic+json": {
              "type": "string"
            }
          },
          "metadata": {},
          "execution_count": 15
        }
      ]
    },
    {
      "cell_type": "code",
      "metadata": {
        "id": "LRU0Yt1amAuz",
        "outputId": "5d9a478e-1161-4cb4-a463-70923d8c7edf",
        "colab": {
          "base_uri": "https://localhost:8080/",
          "height": 35
        }
      },
      "source": [
        "s = ' this is a house built this year.\\n' \t\n",
        "s # the last line is printed without the print function"
      ],
      "execution_count": 16,
      "outputs": [
        {
          "output_type": "execute_result",
          "data": {
            "text/plain": [
              "' this is a house built this year.\\n'"
            ],
            "application/vnd.google.colaboratory.intrinsic+json": {
              "type": "string"
            }
          },
          "metadata": {},
          "execution_count": 16
        }
      ]
    },
    {
      "cell_type": "code",
      "metadata": {
        "id": "nMHteyDfmAu0",
        "outputId": "2f55caa2-dd53-4fac-e876-05ca87c5d63d"
      },
      "source": [
        "result = s.find('house') # index of first instance of string t inside s (-1 if not found)\n",
        "result"
      ],
      "execution_count": null,
      "outputs": [
        {
          "data": {
            "text/plain": [
              "11"
            ]
          },
          "execution_count": 11,
          "metadata": {},
          "output_type": "execute_result"
        }
      ]
    },
    {
      "cell_type": "code",
      "metadata": {
        "id": "gv82JUX7mAu0",
        "outputId": "c6f83822-b6a7-414a-fac2-62839e5047c6",
        "colab": {
          "base_uri": "https://localhost:8080/"
        }
      },
      "source": [
        "result = s.find('this')\t    # index of last instance of string t inside s (-1 if not found)\n",
        "result"
      ],
      "execution_count": null,
      "outputs": [
        {
          "output_type": "execute_result",
          "data": {
            "text/plain": [
              "1"
            ]
          },
          "metadata": {},
          "execution_count": 8
        }
      ]
    },
    {
      "cell_type": "code",
      "metadata": {
        "id": "ua3TjwLcmAu2",
        "outputId": "6b405e9d-a0c9-4677-ed14-1106b3abcc59",
        "colab": {
          "base_uri": "https://localhost:8080/",
          "height": 35
        }
      },
      "source": [
        "s = s.strip()      \t            # a copy of s without leading or trailing whitespace\n",
        "s"
      ],
      "execution_count": null,
      "outputs": [
        {
          "output_type": "execute_result",
          "data": {
            "text/plain": [
              "'this is a house built this year.'"
            ],
            "application/vnd.google.colaboratory.intrinsic+json": {
              "type": "string"
            }
          },
          "metadata": {},
          "execution_count": 9
        }
      ]
    },
    {
      "cell_type": "code",
      "metadata": {
        "id": "l37g5DqQmAu2",
        "outputId": "cacaa271-0b56-4f3f-9753-11c3745b6f4a",
        "colab": {
          "base_uri": "https://localhost:8080/"
        }
      },
      "source": [
        "tokens = s.split(' ')\t        # split s into a list wherever a t is found (whitespace by default)\n",
        "tokens"
      ],
      "execution_count": null,
      "outputs": [
        {
          "output_type": "execute_result",
          "data": {
            "text/plain": [
              "['this', 'is', 'a', 'house', 'built', 'this', 'year.']"
            ]
          },
          "metadata": {},
          "execution_count": 10
        }
      ]
    },
    {
      "cell_type": "code",
      "metadata": {
        "id": "64sewKE8mAu2",
        "outputId": "d6c80059-ab48-4b47-cd1c-ec58b7f18c8f",
        "colab": {
          "base_uri": "https://localhost:8080/",
          "height": 35
        }
      },
      "source": [
        "s = ' '.join(tokens)\t        # combine the words of the text into a string using s as the glue\n",
        "s"
      ],
      "execution_count": null,
      "outputs": [
        {
          "output_type": "execute_result",
          "data": {
            "text/plain": [
              "'this is a house built this year.'"
            ],
            "application/vnd.google.colaboratory.intrinsic+json": {
              "type": "string"
            }
          },
          "metadata": {},
          "execution_count": 11
        }
      ]
    },
    {
      "cell_type": "code",
      "metadata": {
        "id": "jfiqbBiImAu3",
        "outputId": "ecc297ad-1222-4077-d3e2-bb578dd94f5c",
        "colab": {
          "base_uri": "https://localhost:8080/",
          "height": 35
        }
      },
      "source": [
        "s = s.replace('this', 'that')   # replace instances of t with u inside s\n",
        "s"
      ],
      "execution_count": null,
      "outputs": [
        {
          "output_type": "execute_result",
          "data": {
            "text/plain": [
              "'that is a house built that year.'"
            ],
            "application/vnd.google.colaboratory.intrinsic+json": {
              "type": "string"
            }
          },
          "metadata": {},
          "execution_count": 13
        }
      ]
    },
    {
      "cell_type": "markdown",
      "source": [
        "## FUNCTION"
      ],
      "metadata": {
        "id": "sTb6x33pBfOn"
      }
    },
    {
      "cell_type": "code",
      "source": [
        "def add(a,b): #def fn(variable 1, variable 2, ... ) # defines function\n",
        "  return a+b #return output\n",
        "\n",
        "def subtract(a,b):\n",
        "  return a-b\n",
        "\n",
        "def multiply(a,b):\n",
        "  return a*b\n",
        "\n",
        "def divide(a,b):\n",
        "  return a/b"
      ],
      "metadata": {
        "id": "lbqeYGSxBjnB"
      },
      "execution_count": 17,
      "outputs": []
    },
    {
      "cell_type": "code",
      "source": [
        "c = add(1,2); print(c) #you must define functions before you activate them\n",
        "c = subtract(1,2); print(c)\n",
        "c = multiply(1,2); print(c)\n",
        "c = divide(1,2); print(c)"
      ],
      "metadata": {
        "colab": {
          "base_uri": "https://localhost:8080/"
        },
        "id": "0ujQLDbGBs55",
        "outputId": "bfb95181-8285-4b72-9ab5-146bdf9553f0"
      },
      "execution_count": 18,
      "outputs": [
        {
          "output_type": "stream",
          "name": "stdout",
          "text": [
            "3\n",
            "-1\n",
            "2\n",
            "0.5\n"
          ]
        }
      ]
    },
    {
      "cell_type": "markdown",
      "source": [
        "## SYNTAX"
      ],
      "metadata": {
        "id": "7XbuicQzCGh6"
      }
    },
    {
      "cell_type": "markdown",
      "source": [
        "syntax consists of the followings\n",
        "* for(or while): 반복문\n",
        "* if(or switch): 조건문"
      ],
      "metadata": {
        "id": "UqxGoNk-CSty"
      }
    },
    {
      "cell_type": "code",
      "source": [
        "a = [1, 2, 3, 4]\n",
        "for i in a: #repeating the function\n",
        "    print(i)"
      ],
      "metadata": {
        "colab": {
          "base_uri": "https://localhost:8080/"
        },
        "id": "9yjMOgxlCGEV",
        "outputId": "f8eabe3c-191c-4ff3-ebeb-b2ee65fe1d8c"
      },
      "execution_count": 19,
      "outputs": [
        {
          "output_type": "stream",
          "name": "stdout",
          "text": [
            "1\n",
            "2\n",
            "3\n",
            "4\n"
          ]
        }
      ]
    },
    {
      "cell_type": "code",
      "source": [
        "a = [1, 2, 3, 4]\n",
        "for i in range(len(a)): #range(n) returns the nth value\n",
        "    print(a[i])"
      ],
      "metadata": {
        "colab": {
          "base_uri": "https://localhost:8080/"
        },
        "id": "i1eF5UU3CbbS",
        "outputId": "4bee0654-bd58-4848-bf43-e1d74bc48427"
      },
      "execution_count": 20,
      "outputs": [
        {
          "output_type": "stream",
          "name": "stdout",
          "text": [
            "1\n",
            "2\n",
            "3\n",
            "4\n"
          ]
        }
      ]
    },
    {
      "cell_type": "code",
      "source": [
        "a = ['red', 'green', 'blue', 'purple']\n",
        "for i in a:\n",
        "    print(i)"
      ],
      "metadata": {
        "colab": {
          "base_uri": "https://localhost:8080/"
        },
        "id": "_eLVK6aTCgAk",
        "outputId": "5fb69a93-f46d-44a0-cef8-6e9b43f20825"
      },
      "execution_count": 21,
      "outputs": [
        {
          "output_type": "stream",
          "name": "stdout",
          "text": [
            "red\n",
            "green\n",
            "blue\n",
            "purple\n"
          ]
        }
      ]
    },
    {
      "cell_type": "code",
      "source": [
        "a = ['red', 'green', 'blue', 'purple']\n",
        "for i in range(len(a)):\n",
        "    print(a[i])"
      ],
      "metadata": {
        "colab": {
          "base_uri": "https://localhost:8080/"
        },
        "id": "wyV2mBhbChwS",
        "outputId": "91aa6519-e75c-4269-9a5e-d052590964a8"
      },
      "execution_count": 22,
      "outputs": [
        {
          "output_type": "stream",
          "name": "stdout",
          "text": [
            "red\n",
            "green\n",
            "blue\n",
            "purple\n"
          ]
        }
      ]
    },
    {
      "cell_type": "code",
      "source": [
        "a = 0 # = : assign\n",
        "if a == 0: # == : equal to # != not equal to\n",
        "    print(a)\n",
        "else:\n",
        "    print(a+1)"
      ],
      "metadata": {
        "colab": {
          "base_uri": "https://localhost:8080/"
        },
        "id": "aOXtHkMGCjCg",
        "outputId": "7450ebe2-3cdd-409b-e6a8-10a0325d84df"
      },
      "execution_count": 23,
      "outputs": [
        {
          "output_type": "stream",
          "name": "stdout",
          "text": [
            "0\n"
          ]
        }
      ]
    },
    {
      "cell_type": "code",
      "source": [
        "for i in range(1, 3):\n",
        "    for j in range(3, 5):\n",
        "        print(i*j)"
      ],
      "metadata": {
        "colab": {
          "base_uri": "https://localhost:8080/"
        },
        "id": "MjIM9-t8DTA0",
        "outputId": "6171afd3-0cf0-48e1-e5d0-3076d32ce4e6"
      },
      "execution_count": 24,
      "outputs": [
        {
          "output_type": "stream",
          "name": "stdout",
          "text": [
            "3\n",
            "4\n",
            "6\n",
            "8\n"
          ]
        }
      ]
    },
    {
      "cell_type": "code",
      "source": [
        "for i in range(1, 3):\n",
        "    for j in range(3, 5):\n",
        "        if j >=4:\n",
        "            print(i*j)"
      ],
      "metadata": {
        "colab": {
          "base_uri": "https://localhost:8080/"
        },
        "id": "cKsf296HD6JG",
        "outputId": "5a5436db-7c22-4745-a71a-6220065ac841"
      },
      "execution_count": 25,
      "outputs": [
        {
          "output_type": "stream",
          "name": "stdout",
          "text": [
            "4\n",
            "8\n"
          ]
        }
      ]
    },
    {
      "cell_type": "code",
      "source": [
        "a = [1, 2, 3, 4]\n",
        "b = [i for i in a if i >=2]\n",
        "b"
      ],
      "metadata": {
        "colab": {
          "base_uri": "https://localhost:8080/"
        },
        "id": "-kIY2HHUD7sC",
        "outputId": "227f4881-40ab-4693-b074-e83d4ef03e18"
      },
      "execution_count": 26,
      "outputs": [
        {
          "output_type": "execute_result",
          "data": {
            "text/plain": [
              "[2, 3, 4]"
            ]
          },
          "metadata": {},
          "execution_count": 26
        }
      ]
    },
    {
      "cell_type": "code",
      "source": [
        "a = ['red', 'green', 'blue', 'purple']\n",
        "b = [i for i in a if len(i) >=4]\n",
        "b"
      ],
      "metadata": {
        "colab": {
          "base_uri": "https://localhost:8080/"
        },
        "id": "4SzU5Lf3D9g4",
        "outputId": "b3d5733a-1ec3-47ac-c269-adb76bc99aa5"
      },
      "execution_count": 27,
      "outputs": [
        {
          "output_type": "execute_result",
          "data": {
            "text/plain": [
              "['green', 'blue', 'purple']"
            ]
          },
          "metadata": {},
          "execution_count": 27
        }
      ]
    },
    {
      "cell_type": "markdown",
      "source": [
        "## PACKAGES"
      ],
      "metadata": {
        "id": "QWVB2w4AEKqG"
      }
    },
    {
      "cell_type": "code",
      "source": [
        "import numpy \n",
        "import pandas\n",
        "import matplotlib\n",
        "import seaborn\n",
        "import sklearn\n",
        "import requests\n",
        "import urllib3\n",
        "import nltk\n",
        "import PIL\n",
        "import pytest\n",
        "import librosa\n",
        "\n",
        "#built-in functions\n",
        "#import\n",
        "#install"
      ],
      "metadata": {
        "id": "bCdOUikPEL4p"
      },
      "execution_count": 28,
      "outputs": []
    },
    {
      "cell_type": "markdown",
      "source": [
        "## IMPORT\n",
        "### numpy, matplot"
      ],
      "metadata": {
        "id": "9o6TLgG7EpV0"
      }
    },
    {
      "cell_type": "code",
      "source": [
        "import numpy as np #importing a package called numpy, and simplifying it as np\n",
        "n = np.random.randn(100) #in the package numpy, there are sub packages and functions such as \"rand\""
      ],
      "metadata": {
        "id": "bJRO2py5Ejuv"
      },
      "execution_count": 29,
      "outputs": []
    },
    {
      "cell_type": "code",
      "source": [
        "import matplotlib\n",
        "matplotlib.pyplot.hist(n) #hist. is histogram\n",
        "#if you reprint variable n, there will be a different return"
      ],
      "metadata": {
        "colab": {
          "base_uri": "https://localhost:8080/",
          "height": 352
        },
        "id": "GSFdlN6tEzrv",
        "outputId": "9fe09e9a-0d46-4311-a3bb-7d04eb2839ce"
      },
      "execution_count": 31,
      "outputs": [
        {
          "output_type": "execute_result",
          "data": {
            "text/plain": [
              "(array([ 1.,  3.,  3.,  8., 17., 23., 19., 13.,  8.,  5.]),\n",
              " array([-2.88844642, -2.41518275, -1.94191909, -1.46865542, -0.99539176,\n",
              "        -0.52212809, -0.04886442,  0.42439924,  0.89766291,  1.37092657,\n",
              "         1.84419024]),\n",
              " <a list of 10 Patch objects>)"
            ]
          },
          "metadata": {},
          "execution_count": 31
        },
        {
          "output_type": "display_data",
          "data": {
            "text/plain": [
              "<Figure size 432x288 with 1 Axes>"
            ],
            "image/png": "[encoded data removed]"
          },
          "metadata": {
            "needs_background": "light"
          }
        }
      ]
    },
    {
      "cell_type": "code",
      "source": [
        "import matplotlib.pyplot #you can import the sub-categories too\n",
        "matplotlib.pyplot.hist(n)"
      ],
      "metadata": {
        "colab": {
          "base_uri": "https://localhost:8080/",
          "height": 352
        },
        "id": "zlW2DEyLE8IL",
        "outputId": "972373ab-189e-412f-9e53-9886bc452604"
      },
      "execution_count": 32,
      "outputs": [
        {
          "output_type": "execute_result",
          "data": {
            "text/plain": [
              "(array([ 1.,  3.,  3.,  8., 17., 23., 19., 13.,  8.,  5.]),\n",
              " array([-2.88844642, -2.41518275, -1.94191909, -1.46865542, -0.99539176,\n",
              "        -0.52212809, -0.04886442,  0.42439924,  0.89766291,  1.37092657,\n",
              "         1.84419024]),\n",
              " <a list of 10 Patch objects>)"
            ]
          },
          "metadata": {},
          "execution_count": 32
        },
        {
          "output_type": "display_data",
          "data": {
            "text/plain": [
              "<Figure size 432x288 with 1 Axes>"
            ],
            "image/png": "[encoded data removed]"
          },
          "metadata": {
            "needs_background": "light"
          }
        }
      ]
    },
    {
      "cell_type": "code",
      "source": [
        "import matplotlib.pyplot as plt #a common way of importing\n",
        "plt.hist(n)"
      ],
      "metadata": {
        "colab": {
          "base_uri": "https://localhost:8080/",
          "height": 352
        },
        "id": "QeGzlj5kFEZ7",
        "outputId": "cf440270-ca26-4f11-e15c-9bd58c6012fd"
      },
      "execution_count": 33,
      "outputs": [
        {
          "output_type": "execute_result",
          "data": {
            "text/plain": [
              "(array([ 1.,  3.,  3.,  8., 17., 23., 19., 13.,  8.,  5.]),\n",
              " array([-2.88844642, -2.41518275, -1.94191909, -1.46865542, -0.99539176,\n",
              "        -0.52212809, -0.04886442,  0.42439924,  0.89766291,  1.37092657,\n",
              "         1.84419024]),\n",
              " <a list of 10 Patch objects>)"
            ]
          },
          "metadata": {},
          "execution_count": 33
        },
        {
          "output_type": "display_data",
          "data": {
            "text/plain": [
              "<Figure size 432x288 with 1 Axes>"
            ],
            "image/png": "[encoded data removed]"
          },
          "metadata": {
            "needs_background": "light"
          }
        }
      ]
    },
    {
      "cell_type": "code",
      "source": [
        "from matplotlib import pyplot #a quicker method\n",
        "pyplot.hist(n)"
      ],
      "metadata": {
        "colab": {
          "base_uri": "https://localhost:8080/",
          "height": 352
        },
        "id": "SgFO_etwFH7p",
        "outputId": "4ac61c23-8735-4054-92b7-96015bce5f84"
      },
      "execution_count": 34,
      "outputs": [
        {
          "output_type": "execute_result",
          "data": {
            "text/plain": [
              "(array([ 1.,  3.,  3.,  8., 17., 23., 19., 13.,  8.,  5.]),\n",
              " array([-2.88844642, -2.41518275, -1.94191909, -1.46865542, -0.99539176,\n",
              "        -0.52212809, -0.04886442,  0.42439924,  0.89766291,  1.37092657,\n",
              "         1.84419024]),\n",
              " <a list of 10 Patch objects>)"
            ]
          },
          "metadata": {},
          "execution_count": 34
        },
        {
          "output_type": "display_data",
          "data": {
            "text/plain": [
              "<Figure size 432x288 with 1 Axes>"
            ],
            "image/png": "[encoded data removed]"
          },
          "metadata": {
            "needs_background": "light"
          }
        }
      ]
    },
    {
      "cell_type": "code",
      "source": [
        "from matplotlib.pyplot import hist #you can just import a function from the package\n",
        "hist(n)"
      ],
      "metadata": {
        "colab": {
          "base_uri": "https://localhost:8080/",
          "height": 352
        },
        "id": "uBYw5DGlFLbF",
        "outputId": "c44afc16-acc4-46cb-ec72-c628b166a4ba"
      },
      "execution_count": 35,
      "outputs": [
        {
          "output_type": "execute_result",
          "data": {
            "text/plain": [
              "(array([ 1.,  3.,  3.,  8., 17., 23., 19., 13.,  8.,  5.]),\n",
              " array([-2.88844642, -2.41518275, -1.94191909, -1.46865542, -0.99539176,\n",
              "        -0.52212809, -0.04886442,  0.42439924,  0.89766291,  1.37092657,\n",
              "         1.84419024]),\n",
              " <a list of 10 Patch objects>)"
            ]
          },
          "metadata": {},
          "execution_count": 35
        },
        {
          "output_type": "display_data",
          "data": {
            "text/plain": [
              "<Figure size 432x288 with 1 Axes>"
            ],
            "image/png": "[encoded data removed]"
          },
          "metadata": {
            "needs_background": "light"
          }
        }
      ]
    },
    {
      "cell_type": "markdown",
      "source": [
        "## NUMPY\n",
        "### create nd arrays (≈matrices)"
      ],
      "metadata": {
        "id": "AFarTvH8FS4g"
      }
    },
    {
      "cell_type": "markdown",
      "source": [
        "* matrix: 직사각형의 숫자 배열 (다양한 직사각형 모두 가능함), n차원 모두 가능\n",
        "> 1 dimensional; 1xn, nx1 matrix - 행 또는 열만 있는 행렬\n",
        "> 2 dimensional; 행과 열 모두가 있는 행렬\n",
        "* n dimensional; 행과 열 + 다른 차원이 있는 행렬 (3차원 행렬은 직육면체 형태이며 4차원 이상부터는 그려낼 수가 없음)"
      ],
      "metadata": {
        "id": "2T2XHFepIV8d"
      }
    },
    {
      "cell_type": "code",
      "source": [
        "import numpy as np #numpy라는 package를 import"
      ],
      "metadata": {
        "id": "fxHlW32kFQKy"
      },
      "execution_count": 38,
      "outputs": []
    },
    {
      "cell_type": "code",
      "source": [
        "x = np.array([1,2,3])\n",
        "print(x)\n",
        "print(type(x))\n",
        "print(x.shape)"
      ],
      "metadata": {
        "colab": {
          "base_uri": "https://localhost:8080/"
        },
        "id": "DJZ0wOOjHlyh",
        "outputId": "eac7e17b-804b-4772-ae48-56390d8754e6"
      },
      "execution_count": 37,
      "outputs": [
        {
          "output_type": "stream",
          "name": "stdout",
          "text": [
            "[1 2 3]\n",
            "<class 'numpy.ndarray'>\n",
            "(3,)\n"
          ]
        }
      ]
    },
    {
      "cell_type": "markdown",
      "source": [
        "* list 자체로는 계산 불가 > list를 array로 바꾸어야 함\n",
        "* print(x)의 결과값: list그대로 출력\n",
        "* print(type(x))의 결과값: x라는 list가 n차원의 array임을 알려줌\n",
        "* x.shape: 3개짜리 1차원 array가 만들어졌음을 알 수 있음"
      ],
      "metadata": {
        "id": "vwzZLtr5Icmj"
      }
    },
    {
      "cell_type": "code",
      "source": [
        "x = np.arange(0,10,2)\n",
        "print(x)\n",
        "print(type(x))\n",
        "print(x.shape)"
      ],
      "metadata": {
        "colab": {
          "base_uri": "https://localhost:8080/"
        },
        "id": "9blb_eWiIYr0",
        "outputId": "8d2f0c57-68b8-4104-e5dd-b9c3bd8490e5"
      },
      "execution_count": 39,
      "outputs": [
        {
          "output_type": "stream",
          "name": "stdout",
          "text": [
            "[0 2 4 6 8]\n",
            "<class 'numpy.ndarray'>\n",
            "(5,)\n"
          ]
        }
      ]
    },
    {
      "cell_type": "markdown",
      "source": [
        "np.arrange([숫자1], [숫자2], [increment: 증감])\n",
        "np.arrange(0,10,2)는 0에서 10-1까지의 숫자 사이에서, 0에서부터 2씩 증가하는 값을 출력하기. 마지막 숫자는 항상 포함하지 않는다."
      ],
      "metadata": {
        "id": "i6VM2CuYIgcy"
      }
    },
    {
      "cell_type": "markdown",
      "source": [
        ""
      ],
      "metadata": {
        "id": "AMdUIuntIgRG"
      }
    },
    {
      "cell_type": "code",
      "source": [
        "x = np.linspace(0,10,6)\n",
        "print(x)\n",
        "print(type(x))\n",
        "print(x.shape)"
      ],
      "metadata": {
        "colab": {
          "base_uri": "https://localhost:8080/"
        },
        "id": "PiWECrwJIfvM",
        "outputId": "fb58a29d-41b3-4638-c496-bd6ee20af405"
      },
      "execution_count": 40,
      "outputs": [
        {
          "output_type": "stream",
          "name": "stdout",
          "text": [
            "[ 0.  2.  4.  6.  8. 10.]\n",
            "<class 'numpy.ndarray'>\n",
            "(6,)\n"
          ]
        }
      ]
    },
    {
      "cell_type": "markdown",
      "source": [
        "linspace = linear space 여기는 특이하게 10을 포함해야 함 0부터 10까지 등분을 해서, 나누어서 총 6개의 숫자를 나누라는 의미\n",
        "\n",
        "(6,)한줄짜리 행렬임을 알 수 있음"
      ],
      "metadata": {
        "id": "sgg0uZuVIlG4"
      }
    },
    {
      "cell_type": "code",
      "source": [
        "x = np.array([[1,2,3], [4,5,6]])\n",
        "print(x)\n",
        "print(type(x))\n",
        "print(x.shape)"
      ],
      "metadata": {
        "colab": {
          "base_uri": "https://localhost:8080/"
        },
        "id": "DnLJRAeGIk5A",
        "outputId": "595cfece-3a40-4d2a-e157-e0a7d288593d"
      },
      "execution_count": 41,
      "outputs": [
        {
          "output_type": "stream",
          "name": "stdout",
          "text": [
            "[[1 2 3]\n",
            " [4 5 6]]\n",
            "<class 'numpy.ndarray'>\n",
            "(2, 3)\n"
          ]
        }
      ]
    },
    {
      "cell_type": "markdown",
      "source": [
        "여러가지 list를 만들 수가 있음. (2,3): 행2개, 열3개를 의미함."
      ],
      "metadata": {
        "id": "P5UZS4iyIoYO"
      }
    },
    {
      "cell_type": "code",
      "source": [
        "x = np.array([[[1,2,3], [4,5,6]], [[7,8,9], [10,11,12]]])\n",
        "print(x)\n",
        "print(type(x))\n",
        "print(x.shape)"
      ],
      "metadata": {
        "colab": {
          "base_uri": "https://localhost:8080/"
        },
        "id": "7fmJagX9IjVW",
        "outputId": "8025a57c-7707-4bc5-cc4d-03d6714d15ae"
      },
      "execution_count": 42,
      "outputs": [
        {
          "output_type": "stream",
          "name": "stdout",
          "text": [
            "[[[ 1  2  3]\n",
            "  [ 4  5  6]]\n",
            "\n",
            " [[ 7  8  9]\n",
            "  [10 11 12]]]\n",
            "<class 'numpy.ndarray'>\n",
            "(2, 2, 3)\n"
          ]
        }
      ]
    },
    {
      "cell_type": "markdown",
      "source": [
        "* 3d 행렬을 만들어봄\n",
        "* 대괄호 중첩 개수를 보면 차원을 알 수 있음: 총 3개 중첩이므로 3dimensional"
      ],
      "metadata": {
        "id": "JabY7YCOIrOK"
      }
    },
    {
      "cell_type": "code",
      "source": [
        "x = np.ones([2, 2, 3])\n",
        "print(x)\n",
        "print(type(x))\n",
        "print(x.shape)"
      ],
      "metadata": {
        "colab": {
          "base_uri": "https://localhost:8080/"
        },
        "id": "OnL4NRgbIp3q",
        "outputId": "31866eff-6c96-45c3-fbcd-3b7b1876ecc5"
      },
      "execution_count": 43,
      "outputs": [
        {
          "output_type": "stream",
          "name": "stdout",
          "text": [
            "[[[1. 1. 1.]\n",
            "  [1. 1. 1.]]\n",
            "\n",
            " [[1. 1. 1.]\n",
            "  [1. 1. 1.]]]\n",
            "<class 'numpy.ndarray'>\n",
            "(2, 2, 3)\n"
          ]
        }
      ]
    },
    {
      "cell_type": "markdown",
      "source": [
        "ones(): 2 by 2 by 3의 1로 채워진 array를 만들어내는 함수"
      ],
      "metadata": {
        "id": "ram_JYRiIvTQ"
      }
    },
    {
      "cell_type": "code",
      "source": [
        "x = np.zeros([2, 2, 3])\n",
        "print(x)\n",
        "print(type(x))\n",
        "print(x.shape)\n",
        "x.reshape(3,2,2)"
      ],
      "metadata": {
        "colab": {
          "base_uri": "https://localhost:8080/"
        },
        "id": "XgHb17fNIsxC",
        "outputId": "5bbd0e92-fdb8-413b-faf3-f26c84f5b93f"
      },
      "execution_count": 44,
      "outputs": [
        {
          "output_type": "stream",
          "name": "stdout",
          "text": [
            "[[[0. 0. 0.]\n",
            "  [0. 0. 0.]]\n",
            "\n",
            " [[0. 0. 0.]\n",
            "  [0. 0. 0.]]]\n",
            "<class 'numpy.ndarray'>\n",
            "(2, 2, 3)\n"
          ]
        },
        {
          "output_type": "execute_result",
          "data": {
            "text/plain": [
              "array([[[0., 0.],\n",
              "        [0., 0.]],\n",
              "\n",
              "       [[0., 0.],\n",
              "        [0., 0.]],\n",
              "\n",
              "       [[0., 0.],\n",
              "        [0., 0.]]])"
            ]
          },
          "metadata": {},
          "execution_count": 44
        }
      ]
    },
    {
      "cell_type": "markdown",
      "source": [
        "zeros: n by m by p 함수를 0으로 채우는 함수"
      ],
      "metadata": {
        "id": "ylyGXf0IIy12"
      }
    },
    {
      "cell_type": "code",
      "source": [
        "### create random numbers"
      ],
      "metadata": {
        "id": "I_EZC36pIxBt"
      },
      "execution_count": 45,
      "outputs": []
    },
    {
      "cell_type": "code",
      "source": [
        "np.random.normal(0, 1, [2,3,4])"
      ],
      "metadata": {
        "colab": {
          "base_uri": "https://localhost:8080/"
        },
        "id": "yTw7vPwbI1II",
        "outputId": "4ab507f4-c65a-44e5-92d2-de95756eb0b5"
      },
      "execution_count": 46,
      "outputs": [
        {
          "output_type": "execute_result",
          "data": {
            "text/plain": [
              "array([[[ 1.24312968,  3.19462482,  1.28989454, -0.77226405],\n",
              "        [-0.33834604, -0.85730509, -0.84691757,  1.33781635],\n",
              "        [-0.69022703,  0.91308585,  1.7987969 ,  0.77417821]],\n",
              "\n",
              "       [[ 0.32560795,  0.25956344, -0.67738009,  0.59209506],\n",
              "        [-1.00712165, -1.84908119,  1.74381224,  1.521964  ],\n",
              "        [ 0.95639971, -0.36062048,  0.66383468, -0.5141041 ]]])"
            ]
          },
          "metadata": {},
          "execution_count": 46
        }
      ]
    },
    {
      "cell_type": "markdown",
      "source": [
        "normal distribution의 nd array를 만들어주는 함수\n",
        "> normal([mean],[standard deviation], [random number의 nd array])"
      ],
      "metadata": {
        "id": "mn44hJ6SI3Yr"
      }
    },
    {
      "cell_type": "code",
      "source": [
        "import matplotlib.pyplot as plt"
      ],
      "metadata": {
        "id": "eav8H265I2Lc"
      },
      "execution_count": 47,
      "outputs": []
    },
    {
      "cell_type": "code",
      "source": [
        "x = np.random.normal(0, 1, 100)\n",
        "print(x)\n",
        "plt.hist(x, bins=10)"
      ],
      "metadata": {
        "colab": {
          "base_uri": "https://localhost:8080/",
          "height": 647
        },
        "id": "3SR-ezyMI5WA",
        "outputId": "ec02b997-f845-43cf-bd82-35fdaa8eb0d8"
      },
      "execution_count": 48,
      "outputs": [
        {
          "output_type": "stream",
          "name": "stdout",
          "text": [
            "[ 1.1333407  -1.34020672 -0.10797018 -1.84403597  0.87419452  0.18111169\n",
            "  0.62009086 -0.8450731   1.71161335 -0.59205212  0.08873526 -0.45324238\n",
            "  0.92354741  1.64303845 -0.06103252  0.47509197  0.80580561  0.06731766\n",
            "  1.07652337  0.30687894 -0.19799219  0.89824238  0.81811244 -1.44090149\n",
            "  1.33761209 -0.75453799 -1.01831919 -0.73390721  1.28380169 -1.08567383\n",
            " -0.50077917  0.29205252  1.5856127   0.67191855 -0.20932303 -1.56169492\n",
            " -2.08907002  1.87070866  0.46700134  0.20206605  0.19366315 -1.33115737\n",
            " -0.5720535   1.00738514  0.90702344 -0.26151387  0.62798374 -0.66446052\n",
            " -0.68933184 -3.02483945  0.99167168 -0.2722245  -0.96245256  0.23502338\n",
            "  1.69781549  0.59646274 -0.36210144  0.76631002 -0.65961831  0.43336327\n",
            "  0.26772085  2.47355489  1.42231129  0.21239698 -0.22716668 -0.27569648\n",
            "  2.63229764 -0.23521447 -0.81428282  0.34831556  1.6984717   0.12002642\n",
            "  0.53722138 -0.10020286 -1.18743707 -0.54980255  0.72604953  1.61364235\n",
            " -2.18199282 -0.88130458 -0.02936616 -0.03928145  1.47459229 -0.21408398\n",
            "  0.74198865 -0.61483943  0.25447837 -0.08441902 -0.35061202  1.82794728\n",
            "  0.30836253  0.86523072  0.63872702  1.06692004 -0.22827137  2.12618966\n",
            "  2.10170603  1.15053916  0.38791574 -0.2374206 ]\n"
          ]
        },
        {
          "output_type": "execute_result",
          "data": {
            "text/plain": [
              "(array([ 1.,  2.,  5.,  7., 23., 20., 20., 10.,  8.,  4.]),\n",
              " array([-3.02483945, -2.45912574, -1.89341203, -1.32769832, -0.76198461,\n",
              "        -0.1962709 ,  0.3694428 ,  0.93515651,  1.50087022,  2.06658393,\n",
              "         2.63229764]),\n",
              " <a list of 10 Patch objects>)"
            ]
          },
          "metadata": {},
          "execution_count": 48
        },
        {
          "output_type": "display_data",
          "data": {
            "text/plain": [
              "<Figure size 432x288 with 1 Axes>"
            ],
            "image/png": "[encoded data removed]"
          },
          "metadata": {
            "needs_background": "light"
          }
        }
      ]
    },
    {
      "cell_type": "markdown",
      "source": [
        "### generate a sine curve"
      ],
      "metadata": {
        "id": "aFEoF343I81_"
      }
    },
    {
      "cell_type": "code",
      "source": [
        "plt.figure()\n",
        "\n",
        "theta1 = np.linspace(0, 2*np.pi, 100)\n",
        "s1 = np.sin(theta1)\n",
        "theta2 = np.linspace(0, 2*np.pi, 100) + np.pi/2\n",
        "s2 = np.sin(theta2)\n",
        "\n",
        "plt.subplot(2, 1, 1) # (rows, columns, panel number)\n",
        "plt.plot(theta1, s1, '.')\n",
        "plt.subplot(2, 1, 2) # (rows, columns, panel number)\n",
        "plt.plot(theta2, s2, '.')"
      ],
      "metadata": {
        "colab": {
          "base_uri": "https://localhost:8080/",
          "height": 283
        },
        "id": "V8KQhDlcI63n",
        "outputId": "28135577-d04c-4b10-9f27-70d3c9481c6f"
      },
      "execution_count": 49,
      "outputs": [
        {
          "output_type": "execute_result",
          "data": {
            "text/plain": [
              "[<matplotlib.lines.Line2D at 0x7fd41859d3d0>]"
            ]
          },
          "metadata": {},
          "execution_count": 49
        },
        {
          "output_type": "display_data",
          "data": {
            "text/plain": [
              "<Figure size 432x288 with 2 Axes>"
            ],
            "image/png": "[encoded data removed]"
          },
          "metadata": {
            "needs_background": "light"
          }
        }
      ]
    },
    {
      "cell_type": "markdown",
      "source": [
        "* np.pi - 내가 아는 파이(3.14...)\n",
        "* theta 1 > 내가 아는 360도, 라디안\n",
        "* theta2 > theta1에다가 0.5파이(90도)를 더함\n",
        "\n",
        "* sin이라는 함수로 s1이라는 sine 곡선을 만든거. 100개의 숫자값이 있을 것\n",
        "\n",
        "* subplot(a, b, c)\n",
        "> a: row개수\n",
        "> b: column개수\n",
        "> c: 첫 번쨰 위치에다가 그림을 그려라\n",
        "\n",
        "* plot(a, b, c)\n",
        "> a: 입력1 (x축) - 100개\n",
        "> b: 입력2 (y축) - 100개\n",
        "> c: 입력을 뭐로 할것인지?"
      ],
      "metadata": {
        "id": "-E5zx_-OJAzM"
      }
    },
    {
      "cell_type": "code",
      "source": [
        "np.corrcoef(s1,s2)"
      ],
      "metadata": {
        "colab": {
          "base_uri": "https://localhost:8080/"
        },
        "id": "zVuzvB3uI_P5",
        "outputId": "44b91f63-7ccd-4cf0-9452-8746f197dee1"
      },
      "execution_count": 50,
      "outputs": [
        {
          "output_type": "execute_result",
          "data": {
            "text/plain": [
              "array([[1.00000000e+00, 2.41915449e-17],\n",
              "       [2.41915449e-17, 1.00000000e+00]])"
            ]
          },
          "metadata": {},
          "execution_count": 50
        }
      ]
    },
    {
      "cell_type": "markdown",
      "source": [
        "correlation\n",
        "한 학급에 10명이 있다고 하자 (1, 2, 3, ..., 10)\n",
        "10명의 학생의 영어 및 수학 점수를 2차원 그래프에 10개의 점으로 표시할 수 있음\n",
        "그 10가지 점의 분포, 비례의 관계를 correlation이라고 함\n",
        "얼마나 더 tight하게 correlate되어있는지를 coefficient(-1<=r<=1)으로 표시함\n",
        "r의 절대값이 1에 가까워질수록 분포가 더 tight함"
      ],
      "metadata": {
        "id": "wi_4DmKfJEEY"
      }
    },
    {
      "cell_type": "code",
      "source": [
        ""
      ],
      "metadata": {
        "id": "6di_UA3-JC2Z"
      },
      "execution_count": null,
      "outputs": []
    }
  ]
}