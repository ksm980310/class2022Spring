{
  "nbformat": 4,
  "nbformat_minor": 0,
  "metadata": {
    "colab": {
      "name": "20220328.ipynb",
      "provenance": [],
      "collapsed_sections": [],
      "include_colab_link": true
    },
    "kernelspec": {
      "name": "python3",
      "display_name": "Python 3"
    },
    "language_info": {
      "name": "python"
    }
  },
  "cells": [
    {
      "cell_type": "markdown",
      "metadata": {
        "id": "view-in-github",
        "colab_type": "text"
      },
      "source": [
        "<a href=\"https://colab.research.google.com/github/ksm980310/class2022Spring/blob/main/20220328.ipynb\" target=\"_parent\"><img src=\"https://colab.research.google.com/assets/colab-badge.svg\" alt=\"Open In Colab\"/></a>"
      ]
    },
    {
      "cell_type": "markdown",
      "source": [
        "#Request_Gradio_Assignment_20220328\n",
        "\n",
        "- 기능: 서울교통공사의 역 코드를 입력하여 가능한 환승역을 검색할 수 있다.\n",
        "- 사용 API: 서울교통공사_수도권 도시철도 환승 정보 데이터"
      ],
      "metadata": {
        "id": "Q3cSHyExzBCL"
      }
    },
    {
      "cell_type": "code",
      "source": [
        "!pip install gradio\n",
        "import gradio as gr\n",
        "import requests\n",
        "import pandas as pd"
      ],
      "metadata": {
        "id": "8eZHGJhmqd9a"
      },
      "execution_count": null,
      "outputs": []
    },
    {
      "cell_type": "code",
      "source": [
        "def test(transferStation):\n",
        "    URL = ('http://apis.data.go.kr/B553766/smt-transfer/'\n",
        "        'transfer?'\n",
        "        'transferStation='+transferStation+\n",
        "        '&numOfRows=10'\n",
        "        '&pageNo=1'\n",
        "        '&returnType=json'\n",
        "        '&serviceKey=twHYUfQC%2B9PH3Y37wVDVSEv%2Fi0BZnb2PCQMaROiuZL504%2FnjcV1sPpcrel2lwNvNgazgXymxAU%2FRvWWgOD3Bcg%3D%3D')\n",
        "    response = requests.get(URL)\n",
        "    r = response.json()\n",
        "\n",
        "    data = r['data']\n",
        "    departure_name = [item['departure_name'] for item in data]\n",
        "    departure_direction = [item['departure_direction'] for item in data]\n",
        "    after_line = [item['after_line'] for item in data]\n",
        "    arrival_direction = [item['arrival_direction'] for item in data]\n",
        "\n",
        "    departure_name = pd.Series(departure_name)\n",
        "    departure_direction = pd.Series(departure_direction)\n",
        "    after_line = pd.Series(after_line)\n",
        "    arrival_direction = pd.Series(arrival_direction)\n",
        "    \n",
        "    df = pd.DataFrame({'Departing_Station': departure_name, 'Departing_Direction': departure_direction, 'Transfer_Line': after_line, 'Transfering_Direction': arrival_direction})\n",
        "\n",
        "    return df"
      ],
      "metadata": {
        "id": "xXN1m-be3ncA"
      },
      "execution_count": 29,
      "outputs": []
    },
    {
      "cell_type": "code",
      "source": [
        "iface = gr.Interface(test, gr.inputs.Textbox(label=\"Which Station?\", placeholder=\"Try '0150' for Seoul Station\"),\n",
        "                     outputs=['dataframe'],  title=\"Find Transfer Station\",\n",
        "                     description=\"Station Code HERE: https://www.data.go.kr/data/15097652/openapi.do\")\n",
        "iface.launch(debug=True)"
      ],
      "metadata": {
        "colab": {
          "base_uri": "https://localhost:8080/",
          "height": 591
        },
        "id": "QJq1BUt7t9TK",
        "outputId": "b676d744-884a-4cab-e7ad-e331f3770e7c"
      },
      "execution_count": null,
      "outputs": [
        {
          "output_type": "stream",
          "name": "stdout",
          "text": [
            "Colab notebook detected. This cell will run indefinitely so that you can see errors and logs. To turn off, set debug=False in launch().\n",
            "Running on public URL: https://46180.gradio.app\n",
            "\n",
            "This share link expires in 72 hours. For free permanent hosting, check out Spaces (https://huggingface.co/spaces)\n"
          ]
        },
        {
          "output_type": "display_data",
          "data": {
            "text/plain": [
              "<IPython.lib.display.IFrame at 0x7f21f92d5d90>"
            ],
            "text/html": [
              "\n",
              "        <iframe\n",
              "            width=\"900\"\n",
              "            height=\"500\"\n",
              "            src=\"https://46180.gradio.app\"\n",
              "            frameborder=\"0\"\n",
              "            allowfullscreen\n",
              "        ></iframe>\n",
              "        "
            ]
          },
          "metadata": {}
        }
      ]
    },
    {
      "cell_type": "code",
      "source": [
        ""
      ],
      "metadata": {
        "id": "G15lF5EF9NuB"
      },
      "execution_count": null,
      "outputs": []
    }
  ]
}