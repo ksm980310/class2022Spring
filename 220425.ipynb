{
  "nbformat": 4,
  "nbformat_minor": 0,
  "metadata": {
    "colab": {
      "name": "220425.ipynb",
      "provenance": [],
      "collapsed_sections": [],
      "include_colab_link": true
    },
    "kernelspec": {
      "name": "python3",
      "display_name": "Python 3"
    },
    "language_info": {
      "name": "python"
    }
  },
  "cells": [
    {
      "cell_type": "markdown",
      "metadata": {
        "id": "view-in-github",
        "colab_type": "text"
      },
      "source": [
        "<a href=\"https://colab.research.google.com/github/ksm980310/class2022Spring/blob/main/220425.ipynb\" target=\"_parent\"><img src=\"https://colab.research.google.com/assets/colab-badge.svg\" alt=\"Open In Colab\"/></a>"
      ]
    },
    {
      "cell_type": "markdown",
      "source": [
        "### Auto correlation\n",
        "* measuring pitch / F0\n",
        "* aka serial correlation (in the discrete time case)\n",
        "* used to detect non-randomness in data\n",
        "\n",
        "### RMS: root mean square\n",
        "* measuring intensity\n",
        "* square rooot of the mean square\n",
        "* quadratic mean\n",
        "* different interval velocities"
      ],
      "metadata": {
        "id": "1gsMMEn32yiZ"
      }
    }
  ]
}