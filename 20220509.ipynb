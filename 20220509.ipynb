{
  "nbformat": 4,
  "nbformat_minor": 0,
  "metadata": {
    "colab": {
      "name": "20220509.ipynb",
      "provenance": [],
      "collapsed_sections": [],
      "authorship_tag": "ABX9TyNuvwrdrhCwU4RtFt8oJx6/",
      "include_colab_link": true
    },
    "kernelspec": {
      "name": "python3",
      "display_name": "Python 3"
    },
    "language_info": {
      "name": "python"
    }
  },
  "cells": [
    {
      "cell_type": "markdown",
      "metadata": {
        "id": "view-in-github",
        "colab_type": "text"
      },
      "source": [
        "<a href=\"https://colab.research.google.com/github/ksm980310/class2022Spring/blob/main/20220509.ipynb\" target=\"_parent\"><img src=\"https://colab.research.google.com/assets/colab-badge.svg\" alt=\"Open In Colab\"/></a>"
      ]
    },
    {
      "cell_type": "code",
      "source": [
        "import re"
      ],
      "metadata": {
        "id": "X0U0oqUHReY-"
      },
      "execution_count": 7,
      "outputs": []
    },
    {
      "cell_type": "code",
      "source": [
        "import os\n",
        "url = \"https://raw.githubusercontent.com/hsnam95/my/main/friends_season01_script.txt\"\n",
        "os.system(\"curl \" + url + \" > friends_season01_script.txt\")\n",
        "\n",
        "file = open(\"friends_season01_script.txt\")\n",
        "text = file.read()\n",
        "file.close()"
      ],
      "metadata": {
        "id": "g70p1-FYRPnY"
      },
      "execution_count": 8,
      "outputs": []
    },
    {
      "cell_type": "code",
      "source": [
        "findall = re.findall('Rachel', text)"
      ],
      "metadata": {
        "id": "hLz8tyuWRzAG"
      },
      "execution_count": 9,
      "outputs": []
    },
    {
      "cell_type": "code",
      "source": [
        "rachels = re.sub('Rachel', '2017130758', text)\n",
        "newfindall = re.findall('2017130758', rachels)"
      ],
      "metadata": {
        "id": "qKEKVRMatw4F"
      },
      "execution_count": 10,
      "outputs": []
    },
    {
      "cell_type": "code",
      "source": [
        "print(len(findall))\n",
        "print(len(newfindall))"
      ],
      "metadata": {
        "colab": {
          "base_uri": "https://localhost:8080/"
        },
        "id": "HJWRSnPJLasO",
        "outputId": "6b0a0032-1c39-44c0-bb56-e88e7a838b54"
      },
      "execution_count": 11,
      "outputs": [
        {
          "output_type": "stream",
          "name": "stdout",
          "text": [
            "1353\n",
            "1353\n"
          ]
        }
      ]
    },
    {
      "cell_type": "code",
      "source": [
        "# write out a text file\n",
        "file = open(\"20220509.txt\", \"w\")\n",
        "file.write(rachels)\n",
        "file.close()"
      ],
      "metadata": {
        "id": "t3sm8JVIt5n0"
      },
      "execution_count": 12,
      "outputs": []
    }
  ]
}